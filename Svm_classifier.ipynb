{
 "cells": [
  {
   "cell_type": "code",
   "execution_count": 2,
   "metadata": {},
   "outputs": [],
   "source": [
    "import os\n",
    "import cv2\n",
    "import numpy as np\n",
    "from skimage import exposure\n",
    "from sklearn.utils import resample\n",
    "categories = ['Building', 'Forest', 'Glacier', 'Mountains', 'Sea', 'Streets']\n",
    "def load_and_preprocess_images(data_folder, image_size=(300, 300)):\n",
    "    categories = ['Building', 'Forest', 'Glacier', 'Mountains', 'Sea', 'Streets']\n",
    "    images = []\n",
    "    labels = []\n",
    "    \n",
    "    for category in categories:\n",
    "        folder_path = os.path.join(data_folder, category)\n",
    "        label = categories.index(category)  # Numeric label for each category\n",
    "        image_files = os.listdir(folder_path)\n",
    "        \n",
    "        # Downsample the over-represented category to 500 images\n",
    "        if len(image_files) > 500:\n",
    "            image_files = resample(image_files, n_samples=500, random_state=42)\n",
    "        \n",
    "        for filename in image_files:\n",
    "            file_path = os.path.join(folder_path, filename)\n",
    "            image = cv2.imread(file_path)\n",
    "            if image is not None:\n",
    "                image = cv2.resize(image, image_size)\n",
    "                gray_image = cv2.cvtColor(image, cv2.COLOR_BGR2GRAY)\n",
    "                normalized_image = gray_image / 255.0\n",
    "                equalized_image = exposure.equalize_hist(normalized_image)\n",
    "                images.append(equalized_image)\n",
    "                labels.append(label)\n",
    "    \n",
    "    images = np.array(images)\n",
    "    labels = np.array(labels)\n",
    "    return images, labels\n",
    "\n",
    "data_folder = r'data'\n",
    "images, labels = load_and_preprocess_images(data_folder)\n"
   ]
  },
  {
   "cell_type": "markdown",
   "metadata": {},
   "source": [
    "## Feature Extraction"
   ]
  },
  {
   "cell_type": "code",
   "execution_count": 3,
   "metadata": {},
   "outputs": [],
   "source": [
    "from skimage.feature import hog, canny\n",
    "\n",
    "def extract_features(images):\n",
    "    feature_list = []\n",
    "    \n",
    "    for image in images:\n",
    "        # Histogram of Oriented Gradients (HOG)\n",
    "        hog_features = hog(image, pixels_per_cell=(8, 8), cells_per_block=(2, 2), block_norm='L2-Hys')\n",
    "        \n",
    "        # Canny Edges\n",
    "        canny_edges = canny(image).flatten()\n",
    "        \n",
    "        # Combine features into a single feature vector\n",
    "        features = np.hstack((hog_features, canny_edges))\n",
    "        feature_list.append(features)\n",
    "    \n",
    "    feature_array = np.array(feature_list)\n",
    "    return feature_array\n",
    "\n",
    "features = extract_features(images)"
   ]
  },
  {
   "cell_type": "markdown",
   "metadata": {},
   "source": [
    "### Dimensionality Reduction"
   ]
  },
  {
   "cell_type": "code",
   "execution_count": 4,
   "metadata": {},
   "outputs": [],
   "source": [
    "from sklearn.decomposition import PCA\n",
    "\n",
    "# Apply PCA to reduce the dimensionality of the feature set\n",
    "pca = PCA(n_components=50)\n",
    "reduced_features = pca.fit_transform(features)"
   ]
  },
  {
   "cell_type": "markdown",
   "metadata": {},
   "source": [
    "### Classification"
   ]
  },
  {
   "cell_type": "code",
   "execution_count": 5,
   "metadata": {},
   "outputs": [
    {
     "name": "stdout",
     "output_type": "stream",
     "text": [
      "              precision    recall  f1-score   support\n",
      "\n",
      "           0       0.60      0.59      0.60       118\n",
      "           1       0.87      0.86      0.86        99\n",
      "           2       0.38      0.44      0.41        96\n",
      "           3       0.56      0.52      0.54       101\n",
      "           4       0.54      0.56      0.55        91\n",
      "           5       0.65      0.58      0.61        95\n",
      "\n",
      "    accuracy                           0.59       600\n",
      "   macro avg       0.60      0.59      0.59       600\n",
      "weighted avg       0.60      0.59      0.60       600\n",
      "\n",
      "[[70  5 14  4  3 22]\n",
      " [ 4 85  3  3  0  4]\n",
      " [ 8  3 42 20 21  2]\n",
      " [ 7  2 17 53 20  2]\n",
      " [ 4  1 21 14 51  0]\n",
      " [23  2 14  1  0 55]]\n"
     ]
    }
   ],
   "source": [
    "from sklearn.model_selection import train_test_split\n",
    "from sklearn.svm import SVC\n",
    "from sklearn.metrics import classification_report, confusion_matrix\n",
    "\n",
    "# Split data into training and testing sets\n",
    "X_train, X_test, y_train, y_test = train_test_split(reduced_features, labels, test_size=0.2, random_state=42)\n",
    "\n",
    "# Train an SVM classifier\n",
    "svm_classifier = SVC(kernel='linear', class_weight='balanced')  # Use balanced class weights\n",
    "svm_classifier.fit(X_train, y_train)\n",
    "\n",
    "# Evaluate the classifier\n",
    "y_pred = svm_classifier.predict(X_test)\n",
    "print(classification_report(y_test, y_pred))\n",
    "print(confusion_matrix(y_test, y_pred))"
   ]
  },
  {
   "cell_type": "code",
   "execution_count": 7,
   "metadata": {},
   "outputs": [
    {
     "data": {
      "text/plain": [
       "['pca_model.pkl']"
      ]
     },
     "execution_count": 7,
     "metadata": {},
     "output_type": "execute_result"
    }
   ],
   "source": [
    "import joblib\n",
    "# Save the trained model\n",
    "joblib.dump(svm_classifier, 'svm_classifier.pkl')\n",
    "joblib.dump(pca, 'pca_model.pkl')"
   ]
  },
  {
   "cell_type": "code",
   "execution_count": null,
   "metadata": {},
   "outputs": [],
   "source": []
  }
 ],
 "metadata": {
  "kernelspec": {
   "display_name": ".venv",
   "language": "python",
   "name": "python3"
  },
  "language_info": {
   "codemirror_mode": {
    "name": "ipython",
    "version": 3
   },
   "file_extension": ".py",
   "mimetype": "text/x-python",
   "name": "python",
   "nbconvert_exporter": "python",
   "pygments_lexer": "ipython3",
   "version": "3.10.9"
  }
 },
 "nbformat": 4,
 "nbformat_minor": 2
}
